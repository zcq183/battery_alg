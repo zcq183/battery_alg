{
 "cells": [
  {
   "cell_type": "code",
   "execution_count": 1,
   "metadata": {},
   "outputs": [
    {
     "name": "stdout",
     "output_type": "stream",
     "text": [
      "0\n",
      "耗时:    0.00019秒\n"
     ]
    }
   ],
   "source": [
    "import time\n",
    " \n",
    "def factoria(N):\n",
    "    a=1\n",
    "    for i in range(2,N+1):\n",
    "        a*=i\n",
    "    return a\n",
    " \n",
    "t=time.clock()\n",
    "N=10\n",
    "a=factoria(N)\n",
    "t=time.clock()-t\n",
    "print(a%100) \n",
    "print(\"耗时: %10.5f秒\" % (t))\n"
   ]
  },
  {
   "cell_type": "code",
   "execution_count": null,
   "metadata": {},
   "outputs": [],
   "source": []
  },
  {
   "cell_type": "code",
   "execution_count": 2,
   "metadata": {},
   "outputs": [
    {
     "name": "stdout",
     "output_type": "stream",
     "text": [
      "0\n",
      "耗时:    0.00014秒\n"
     ]
    }
   ],
   "source": [
    "\n",
    "def factoria2(N):\n",
    "    N2=N\n",
    "    a=list(range(1,N+1))\n",
    "    while N2>1:\n",
    "        N1=N2%2; N2=N2//2+N1\n",
    "        for i in range(N2-N1):\n",
    "            a[i]*=a[N2+i]\n",
    "        a=a[0:N2]\n",
    "    return a[0]\n",
    " \n",
    "t=time.clock()\n",
    "a=factoria2(N)\n",
    "t=time.clock()-t\n",
    "print (a%100)\n",
    "print(\"耗时: %10.5f秒\" % (t))"
   ]
  },
  {
   "cell_type": "code",
   "execution_count": 3,
   "metadata": {},
   "outputs": [
    {
     "name": "stdout",
     "output_type": "stream",
     "text": [
      "origin rows is :22657 \n",
      "Index(['VIN', '报文时间'], dtype='object')\n",
      "22657\n"
     ]
    },
    {
     "data": {
      "text/html": [
       "<div>\n",
       "<style scoped>\n",
       "    .dataframe tbody tr th:only-of-type {\n",
       "        vertical-align: middle;\n",
       "    }\n",
       "\n",
       "    .dataframe tbody tr th {\n",
       "        vertical-align: top;\n",
       "    }\n",
       "\n",
       "    .dataframe thead th {\n",
       "        text-align: right;\n",
       "    }\n",
       "</style>\n",
       "<table border=\"1\" class=\"dataframe\">\n",
       "  <thead>\n",
       "    <tr style=\"text-align: right;\">\n",
       "      <th></th>\n",
       "      <th>VIN</th>\n",
       "      <th>报文时间</th>\n",
       "      <th>原始报文时间</th>\n",
       "      <th>CAN信号</th>\n",
       "      <th>PowerRelayFault</th>\n",
       "      <th>BMS_CellDeltaVoltRankValid</th>\n",
       "      <th>AirBagFailCmdValid</th>\n",
       "      <th>BMS_RMC_MaxTempPosnNumberValid</th>\n",
       "      <th>RearLidSts</th>\n",
       "      <th>SteerWheelAngle</th>\n",
       "      <th>...</th>\n",
       "      <th>BMS_SignleCellVolt8Valid</th>\n",
       "      <th>BMS_SignleCellVolt74</th>\n",
       "      <th>BMS_SignleCellVolt73</th>\n",
       "      <th>BMS_SignleCellVolt76</th>\n",
       "      <th>BMS_SignleCellVolt75</th>\n",
       "      <th>BMS_DeltaTempRank</th>\n",
       "      <th>BMS_SignleCellVolt70</th>\n",
       "      <th>BMS_SignleCellVolt72</th>\n",
       "      <th>EPBSts</th>\n",
       "      <th>BMS_SignleCellVolt71</th>\n",
       "    </tr>\n",
       "  </thead>\n",
       "  <tbody>\n",
       "    <tr>\n",
       "      <th>0</th>\n",
       "      <td>LGWEEUA5XJE001936</td>\n",
       "      <td>2020-08-31 23:59:54</td>\n",
       "      <td>2020-08-31 23:59:54</td>\n",
       "      <td>CH141E</td>\n",
       "      <td>0</td>\n",
       "      <td>1</td>\n",
       "      <td>0</td>\n",
       "      <td>1</td>\n",
       "      <td>0</td>\n",
       "      <td>21</td>\n",
       "      <td>...</td>\n",
       "      <td>1</td>\n",
       "      <td>3609</td>\n",
       "      <td>3609</td>\n",
       "      <td>3605</td>\n",
       "      <td>3610</td>\n",
       "      <td>0</td>\n",
       "      <td>3610</td>\n",
       "      <td>3611</td>\n",
       "      <td>1</td>\n",
       "      <td>3610</td>\n",
       "    </tr>\n",
       "    <tr>\n",
       "      <th>1</th>\n",
       "      <td>LGWEEUA5XJE001936</td>\n",
       "      <td>2020-08-31 23:59:24</td>\n",
       "      <td>2020-08-31 23:59:24</td>\n",
       "      <td>CH141E</td>\n",
       "      <td>0</td>\n",
       "      <td>1</td>\n",
       "      <td>0</td>\n",
       "      <td>1</td>\n",
       "      <td>0</td>\n",
       "      <td>21</td>\n",
       "      <td>...</td>\n",
       "      <td>1</td>\n",
       "      <td>3608</td>\n",
       "      <td>3608</td>\n",
       "      <td>3605</td>\n",
       "      <td>3610</td>\n",
       "      <td>0</td>\n",
       "      <td>3609</td>\n",
       "      <td>3610</td>\n",
       "      <td>1</td>\n",
       "      <td>3610</td>\n",
       "    </tr>\n",
       "  </tbody>\n",
       "</table>\n",
       "<p>2 rows × 603 columns</p>\n",
       "</div>"
      ],
      "text/plain": [
       "                 VIN                 报文时间               原始报文时间   CAN信号  \\\n",
       "0  LGWEEUA5XJE001936  2020-08-31 23:59:54  2020-08-31 23:59:54  CH141E   \n",
       "1  LGWEEUA5XJE001936  2020-08-31 23:59:24  2020-08-31 23:59:24  CH141E   \n",
       "\n",
       "   PowerRelayFault  BMS_CellDeltaVoltRankValid  AirBagFailCmdValid  \\\n",
       "0                0                           1                   0   \n",
       "1                0                           1                   0   \n",
       "\n",
       "   BMS_RMC_MaxTempPosnNumberValid  RearLidSts  SteerWheelAngle  ...  \\\n",
       "0                               1           0               21  ...   \n",
       "1                               1           0               21  ...   \n",
       "\n",
       "   BMS_SignleCellVolt8Valid  BMS_SignleCellVolt74  BMS_SignleCellVolt73  \\\n",
       "0                         1                  3609                  3609   \n",
       "1                         1                  3608                  3608   \n",
       "\n",
       "   BMS_SignleCellVolt76  BMS_SignleCellVolt75  BMS_DeltaTempRank  \\\n",
       "0                  3605                  3610                  0   \n",
       "1                  3605                  3610                  0   \n",
       "\n",
       "   BMS_SignleCellVolt70  BMS_SignleCellVolt72  EPBSts  BMS_SignleCellVolt71  \n",
       "0                  3610                  3611       1                  3610  \n",
       "1                  3609                  3610       1                  3610  \n",
       "\n",
       "[2 rows x 603 columns]"
      ]
     },
     "execution_count": 3,
     "metadata": {},
     "output_type": "execute_result"
    }
   ],
   "source": [
    "\n",
    "import matplotlib.pyplot as plt\n",
    "from datetime import datetime  \n",
    "import pandas as pd \n",
    "import numpy as np  \n",
    "  \n",
    "filename='/home/zhao/data/车型CC7001CE02ABEV/LGWEEUA5XJE001936/LGWEEUA5XJE001936_20200801-20200901.csv' \n",
    "df1 = pd.read_csv(filename,encoding='GB18030') \n",
    "df=df1[['VIN', '报文时间']] \n",
    "\n",
    "print(\"origin rows is :%d \" %df.index.shape[0])\n",
    "print((df.columns))\n",
    "\n",
    "t=df.index\n",
    "print(t.shape[0])\n",
    "\n",
    "df1.head(2)\n",
    "   "
   ]
  },
  {
   "cell_type": "code",
   "execution_count": 4,
   "metadata": {},
   "outputs": [
    {
     "name": "stdout",
     "output_type": "stream",
     "text": [
      "None\n"
     ]
    }
   ],
   "source": [
    "li =[1, 2, 3, 4, 5, 6]\n",
    "print(li.reverse())\n",
    "# t=reversed(li) \n",
    "# tl=list(t)\n",
    "# print(tl)\n",
    "\n",
    "# # print(t)\n",
    "# a = list(reversed(li))\n",
    "# print (a)"
   ]
  },
  {
   "cell_type": "code",
   "execution_count": 88,
   "metadata": {},
   "outputs": [
    {
     "name": "stdout",
     "output_type": "stream",
     "text": [
      "603\n",
      "68\n",
      "  relation_set\n",
      "       BMS_BattCurr  BMS_BattModuleTemp24  BMS_SOC  BMS_SignleCellVolt20\n",
      "0               NaN                   NaN      NaN                   NaN\n",
      "1               NaN                   NaN      NaN                   NaN\n",
      "2               NaN                   NaN      NaN                   NaN\n",
      "3               NaN                   NaN      NaN                   NaN\n",
      "4               NaN                   NaN      NaN                   NaN\n",
      "...             ...                   ...      ...                   ...\n",
      "22294           NaN                   NaN      NaN                   NaN\n",
      "22295           NaN                   NaN      NaN                   NaN\n",
      "22296           NaN                   NaN      NaN                   NaN\n",
      "22297           NaN                   NaN      NaN                   NaN\n",
      "22298           NaN                   NaN      NaN                   NaN\n",
      "\n",
      "[22299 rows x 4 columns]\n",
      "   BMS_BattCurr  BMS_BattModuleTemp24  BMS_SOC  BMS_SignleCellVolt20\n",
      "0           NaN                   NaN      NaN                   NaN\n",
      "1           NaN                   NaN      NaN                   NaN\n"
     ]
    }
   ],
   "source": [
    "import matplotlib.pyplot as plt \n",
    "from datetime import datetime  \n",
    "import pandas as pd \n",
    "import numpy as np  \n",
    " \n",
    "filename='/home/zhao/data/车型CC7001CE02ABEV/LGWEEUA5XJE001208/LGWEEUA5XJE001208_20200701-20200801.csv' \n",
    "# filename='/home/zhao/python/data_statistic/data/slow_charge.csv'\n",
    "\n",
    "df = pd.read_csv(filename,encoding='GB18030')  #GB18030   utf_8_sig\n",
    "prefix='BMS_BattModuleTemp'     #  BMS_SignleCellVolt length is 18 ,BMS_SignleCellVolt 102   BMS_BattModuleTemp is 34\n",
    "\n",
    "\n",
    "sublen=len(prefix)\n",
    "strsub_exclude='Valid'                #exclude Valid\n",
    "#print(df.columns)\n",
    "\n",
    "#pick up voltage cols\n",
    "listVolt=[]\n",
    "listSoc=[]  \n",
    "listCurr=[]\n",
    "listTemp=[]\n",
    "listVolt1=[]\n",
    "print(df.columns.size)\n",
    "\n",
    "\n",
    "\n",
    "# for col in df.columns:\n",
    "#     print(col)\n",
    "\n",
    "\n",
    "\n",
    "\n",
    "\n",
    "for col in df.columns:\n",
    "     #colums filter condition\n",
    "#     print(col)\n",
    "    exclude=col.find(strsub_exclude)\n",
    "#     res=col.find('SOC')   #SOC  BMS_Soc\n",
    "#     if(res!=-1):\n",
    "#       #  print(\".............\")\n",
    "#         listSoc.append(col)\n",
    "        \n",
    "        \n",
    "    res=col.find('BMS_SOC')   #SOC  BMS_Soc\n",
    "    if(res!=-1 and  exclude==-1):\n",
    "      #  print(\".............\")\n",
    "        listSoc.append(col)   \n",
    "    \n",
    "        \n",
    "    res=col.find('BMS_BattCurr')   #SOC  BMS_Soc\n",
    "    if(res!=-1 and  exclude==-1):\n",
    "      #  print(\".............\")\n",
    "        listCurr.append(col)   \n",
    "    \n",
    "    \n",
    "          \n",
    "    res=col.find('BMS_BattModuleTemp24')   #SOC  BMS_Soc\n",
    "    if(res!=-1 and  exclude==-1) :\n",
    "      #  print(\".............\")\n",
    "        listTemp.append(col) \n",
    "        \n",
    "        \n",
    "    \n",
    "            \n",
    "    res=col.find('BMS_SignleCellVolt20')   #SOC  BMS_Soc\n",
    "    if(res!=-1 and  exclude==-1):\n",
    "      #  print(\".............\")\n",
    "        listVolt1.append(col)    \n",
    "        \n",
    "    \n",
    "    \n",
    "    \n",
    "       # print(col)\n",
    "    if col[0:sublen]==prefix and res==-1:   #   and pd.notnull(df.at[0,col]) pd.notnull(df.at[0,col]) data is not null\n",
    "        #print(col)\n",
    "        listVolt.append(col)                        # colums \n",
    "        \n",
    "# return listVolt\n",
    "    \n",
    "temp=df[listVolt]\n",
    "\n",
    "print(temp.columns.size) \n",
    "\n",
    "soc=df[listSoc]\n",
    "curr=df[listCurr]\n",
    "temperature=df[listTemp]\n",
    "volt=df[listVolt1]\n",
    "\n",
    "number=2\n",
    "\n",
    "# print(\"\\n curr\")\n",
    "# print(curr.head(number)) \n",
    "# print(\"\\n temperature\")\n",
    "\n",
    "# print(temperature.head(number)) \n",
    "# print(\"\\n volt\")\n",
    "# print(volt.head(number)) \n",
    "\n",
    "\n",
    "# print(\"\\n soc\")\n",
    "# print(soc.head(number))\n",
    "\n",
    "\n",
    "relation_set=soc+temperature+volt+curr\n",
    "\n",
    "\n",
    "print(\"  relation_set\")\n",
    "print(relation_set)\n",
    "print(relation_set.head(number))\n",
    "\n",
    "\n",
    " \n",
    "\n",
    "\n"
   ]
  },
  {
   "cell_type": "code",
   "execution_count": null,
   "metadata": {},
   "outputs": [],
   "source": [
    "print(\"tt\")"
   ]
  },
  {
   "cell_type": "code",
   "execution_count": 77,
   "metadata": {},
   "outputs": [
    {
     "name": "stdout",
     "output_type": "stream",
     "text": [
      "[0 0 0 1 1]\n"
     ]
    }
   ],
   "source": [
    "# 使用sklearn验证\n",
    "from sklearn.cluster import KMeans\n",
    "X = np.array([[0,2],[0,0],[1,0],[5,0],[5,2]])\n",
    "kmeans = KMeans(n_clusters=2,init = 'random').fit(X)\n",
    "# 由于center的随机性，结果可能不一样\n",
    "print(kmeans.labels_)\n"
   ]
  },
  {
   "cell_type": "code",
   "execution_count": 83,
   "metadata": {},
   "outputs": [
    {
     "name": "stdout",
     "output_type": "stream",
     "text": [
      "[0 0 0 1 1]\n"
     ]
    }
   ],
   "source": [
    "# 使用sklearn验证\n",
    "X = np.array([[0,2],[0,0],[1,0],[5,0],[5,2]])\n",
    "kmeans = KMeans(n_clusters=2,init='k-means++').fit(X)\n",
    "print(kmeans.labels_)\n"
   ]
  },
  {
   "cell_type": "code",
   "execution_count": 86,
   "metadata": {},
   "outputs": [
    {
     "ename": "ModuleNotFoundError",
     "evalue": "No module named 'fig_code'",
     "output_type": "error",
     "traceback": [
      "\u001b[0;31m---------------------------------------------------------------------------\u001b[0m",
      "\u001b[0;31mModuleNotFoundError\u001b[0m                       Traceback (most recent call last)",
      "\u001b[0;32m<ipython-input-86-3e8e5e8dd832>\u001b[0m in \u001b[0;36m<module>\u001b[0;34m\u001b[0m\n\u001b[0;32m----> 1\u001b[0;31m \u001b[0;32mfrom\u001b[0m \u001b[0mfig_code\u001b[0m \u001b[0;32mimport\u001b[0m \u001b[0mplot_sgd_separator\u001b[0m\u001b[0;34m\u001b[0m\u001b[0;34m\u001b[0m\u001b[0m\n\u001b[0m",
      "\u001b[0;31mModuleNotFoundError\u001b[0m: No module named 'fig_code'"
     ]
    }
   ],
   "source": [
    "from fig_code import plot_sgd_separator\n"
   ]
  }
 ],
 "metadata": {
  "kernelspec": {
   "display_name": "Python 3",
   "language": "python",
   "name": "python3"
  },
  "language_info": {
   "codemirror_mode": {
    "name": "ipython",
    "version": 3
   },
   "file_extension": ".py",
   "mimetype": "text/x-python",
   "name": "python",
   "nbconvert_exporter": "python",
   "pygments_lexer": "ipython3",
   "version": "3.6.9"
  }
 },
 "nbformat": 4,
 "nbformat_minor": 4
}
