{
 "cells": [
  {
   "cell_type": "code",
   "execution_count": 55,
   "metadata": {},
   "outputs": [
    {
     "name": "stdout",
     "output_type": "stream",
     "text": [
      "      A  B  C\n",
      "row0  1  2  3\n",
      "row1  4  5  6\n",
      "row2  7  8  9\n",
      "row2\n",
      "row1\n",
      "row0\n"
     ]
    }
   ],
   "source": [
    "import pandas as pd\n",
    "import numpy as np\n",
    " \n",
    "a=np.array([[1,2,3],[4,5,6],[7,8,9]])\n",
    "df1=pd.DataFrame(a,index=['row0','row1','row2'],columns=list('ABC'))\n",
    "print(df1)\n",
    " \n",
    " \n",
    "# for index in range(df1.shape[0]-1,-1,-1): \n",
    "#     print(index) \n",
    "#     print( df1.iloc[index])\n",
    " \n",
    "    \n",
    "    \n",
    "# print(df1.index)\n",
    "# print(df1.index.reindex)\n",
    "# t=df1.index.reindex.\n",
    "# print(type(t.))\n",
    "df1.reindex(index=df1.index[::-1]) \n",
    " \n",
    "\n",
    "for index in df1.index[::-1]: \n",
    "    print(index) \n",
    "    #print( df1.iloc[index])\n",
    "\n",
    "\n",
    "\n",
    "\n"
   ]
  },
  {
   "cell_type": "code",
   "execution_count": null,
   "metadata": {},
   "outputs": [],
   "source": [
    "os.listdir(path)"
   ]
  },
  {
   "cell_type": "code",
   "execution_count": 60,
   "metadata": {},
   "outputs": [
    {
     "name": "stdout",
     "output_type": "stream",
     "text": [
      "LGWEEUA5XJE001208_20200901-20201001.csv\n",
      "LGWEEUA5XJE001208_20200801-20200901.csv\n",
      "LGWEEUA5XJE001208_20200701-20200801.csv\n"
     ]
    }
   ],
   "source": [
    "import pandas as pd\n",
    "import os\n",
    " \n",
    "all_df=pd.DataFrame()\n",
    "#\".\"表示当前文件夹\n",
    "for parents,dirnames,filenames in os.walk(\"/home/zhao/data/车型CC7001CE02ABEV/LGWEEUA5XJE001208/\"):\n",
    "    filenames.sort(reverse=True) \n",
    "    for filename in filenames:\n",
    "        print(filename)\n",
    "        \n",
    "        a_df=pd.read_csv(os.path.join(parents,filename),encoding=\"gbk\")\n",
    "        all_df=all_df.append(a_df,ignore_index=True)\n",
    "#print(all_df)\n",
    "all_df.to_csv(\"all_file.csv\",index=False)\n"
   ]
  }
 ],
 "metadata": {
  "kernelspec": {
   "display_name": "Python 3",
   "language": "python",
   "name": "python3"
  },
  "language_info": {
   "codemirror_mode": {
    "name": "ipython",
    "version": 3
   },
   "file_extension": ".py",
   "mimetype": "text/x-python",
   "name": "python",
   "nbconvert_exporter": "python",
   "pygments_lexer": "ipython3",
   "version": "3.6.9"
  }
 },
 "nbformat": 4,
 "nbformat_minor": 4
}
